{
 "cells": [
  {
   "cell_type": "code",
   "execution_count": 1,
   "id": "882c39aa",
   "metadata": {},
   "outputs": [],
   "source": [
    "import pandas as pd"
   ]
  },
  {
   "cell_type": "code",
   "execution_count": 46,
   "id": "38d2ceca",
   "metadata": {},
   "outputs": [
    {
     "data": {
      "text/html": [
       "<div>\n",
       "<style scoped>\n",
       "    .dataframe tbody tr th:only-of-type {\n",
       "        vertical-align: middle;\n",
       "    }\n",
       "\n",
       "    .dataframe tbody tr th {\n",
       "        vertical-align: top;\n",
       "    }\n",
       "\n",
       "    .dataframe thead th {\n",
       "        text-align: right;\n",
       "    }\n",
       "</style>\n",
       "<table border=\"1\" class=\"dataframe\">\n",
       "  <thead>\n",
       "    <tr style=\"text-align: right;\">\n",
       "      <th></th>\n",
       "      <th>Date</th>\n",
       "      <th>Month</th>\n",
       "      <th>Year</th>\n",
       "      <th>Day</th>\n",
       "      <th>Open</th>\n",
       "      <th>High</th>\n",
       "      <th>Low</th>\n",
       "      <th>Close</th>\n",
       "      <th>Vol</th>\n",
       "    </tr>\n",
       "  </thead>\n",
       "  <tbody>\n",
       "    <tr>\n",
       "      <th>0</th>\n",
       "      <td>1</td>\n",
       "      <td>12</td>\n",
       "      <td>2015</td>\n",
       "      <td>2</td>\n",
       "      <td>104.85</td>\n",
       "      <td>107.15</td>\n",
       "      <td>104.50</td>\n",
       "      <td>107.12</td>\n",
       "      <td>22781868</td>\n",
       "    </tr>\n",
       "    <tr>\n",
       "      <th>1</th>\n",
       "      <td>2</td>\n",
       "      <td>12</td>\n",
       "      <td>2015</td>\n",
       "      <td>3</td>\n",
       "      <td>107.00</td>\n",
       "      <td>107.92</td>\n",
       "      <td>105.79</td>\n",
       "      <td>106.07</td>\n",
       "      <td>24429063</td>\n",
       "    </tr>\n",
       "    <tr>\n",
       "      <th>2</th>\n",
       "      <td>3</td>\n",
       "      <td>12</td>\n",
       "      <td>2015</td>\n",
       "      <td>4</td>\n",
       "      <td>106.42</td>\n",
       "      <td>106.85</td>\n",
       "      <td>103.35</td>\n",
       "      <td>104.38</td>\n",
       "      <td>23236423</td>\n",
       "    </tr>\n",
       "    <tr>\n",
       "      <th>3</th>\n",
       "      <td>4</td>\n",
       "      <td>12</td>\n",
       "      <td>2015</td>\n",
       "      <td>5</td>\n",
       "      <td>104.76</td>\n",
       "      <td>107.73</td>\n",
       "      <td>104.11</td>\n",
       "      <td>106.18</td>\n",
       "      <td>21224521</td>\n",
       "    </tr>\n",
       "    <tr>\n",
       "      <th>4</th>\n",
       "      <td>7</td>\n",
       "      <td>12</td>\n",
       "      <td>2015</td>\n",
       "      <td>1</td>\n",
       "      <td>106.48</td>\n",
       "      <td>106.83</td>\n",
       "      <td>104.66</td>\n",
       "      <td>105.61</td>\n",
       "      <td>15474890</td>\n",
       "    </tr>\n",
       "    <tr>\n",
       "      <th>...</th>\n",
       "      <td>...</td>\n",
       "      <td>...</td>\n",
       "      <td>...</td>\n",
       "      <td>...</td>\n",
       "      <td>...</td>\n",
       "      <td>...</td>\n",
       "      <td>...</td>\n",
       "      <td>...</td>\n",
       "      <td>...</td>\n",
       "    </tr>\n",
       "    <tr>\n",
       "      <th>1501</th>\n",
       "      <td>16</td>\n",
       "      <td>11</td>\n",
       "      <td>2021</td>\n",
       "      <td>2</td>\n",
       "      <td>343.82</td>\n",
       "      <td>346.65</td>\n",
       "      <td>340.87</td>\n",
       "      <td>342.96</td>\n",
       "      <td>18187498</td>\n",
       "    </tr>\n",
       "    <tr>\n",
       "      <th>1502</th>\n",
       "      <td>17</td>\n",
       "      <td>11</td>\n",
       "      <td>2021</td>\n",
       "      <td>3</td>\n",
       "      <td>344.22</td>\n",
       "      <td>347.30</td>\n",
       "      <td>340.10</td>\n",
       "      <td>340.77</td>\n",
       "      <td>13594625</td>\n",
       "    </tr>\n",
       "    <tr>\n",
       "      <th>1503</th>\n",
       "      <td>18</td>\n",
       "      <td>11</td>\n",
       "      <td>2021</td>\n",
       "      <td>4</td>\n",
       "      <td>339.50</td>\n",
       "      <td>342.46</td>\n",
       "      <td>335.30</td>\n",
       "      <td>338.69</td>\n",
       "      <td>17477599</td>\n",
       "    </tr>\n",
       "    <tr>\n",
       "      <th>1504</th>\n",
       "      <td>19</td>\n",
       "      <td>11</td>\n",
       "      <td>2021</td>\n",
       "      <td>5</td>\n",
       "      <td>342.86</td>\n",
       "      <td>352.10</td>\n",
       "      <td>339.90</td>\n",
       "      <td>345.30</td>\n",
       "      <td>26480108</td>\n",
       "    </tr>\n",
       "    <tr>\n",
       "      <th>1505</th>\n",
       "      <td>22</td>\n",
       "      <td>11</td>\n",
       "      <td>2021</td>\n",
       "      <td>1</td>\n",
       "      <td>348.90</td>\n",
       "      <td>353.83</td>\n",
       "      <td>340.51</td>\n",
       "      <td>341.01</td>\n",
       "      <td>27047952</td>\n",
       "    </tr>\n",
       "  </tbody>\n",
       "</table>\n",
       "<p>1506 rows × 9 columns</p>\n",
       "</div>"
      ],
      "text/plain": [
       "      Date  Month  Year  Day    Open    High     Low   Close       Vol\n",
       "0        1     12  2015    2  104.85  107.15  104.50  107.12  22781868\n",
       "1        2     12  2015    3  107.00  107.92  105.79  106.07  24429063\n",
       "2        3     12  2015    4  106.42  106.85  103.35  104.38  23236423\n",
       "3        4     12  2015    5  104.76  107.73  104.11  106.18  21224521\n",
       "4        7     12  2015    1  106.48  106.83  104.66  105.61  15474890\n",
       "...    ...    ...   ...  ...     ...     ...     ...     ...       ...\n",
       "1501    16     11  2021    2  343.82  346.65  340.87  342.96  18187498\n",
       "1502    17     11  2021    3  344.22  347.30  340.10  340.77  13594625\n",
       "1503    18     11  2021    4  339.50  342.46  335.30  338.69  17477599\n",
       "1504    19     11  2021    5  342.86  352.10  339.90  345.30  26480108\n",
       "1505    22     11  2021    1  348.90  353.83  340.51  341.01  27047952\n",
       "\n",
       "[1506 rows x 9 columns]"
      ]
     },
     "execution_count": 46,
     "metadata": {},
     "output_type": "execute_result"
    }
   ],
   "source": [
    "df = pd.read_csv('FB.csv')\n",
    "df"
   ]
  },
  {
   "cell_type": "code",
   "execution_count": 6,
   "id": "c8351349",
   "metadata": {},
   "outputs": [
    {
     "data": {
      "text/plain": [
       "107.12"
      ]
     },
     "execution_count": 6,
     "metadata": {},
     "output_type": "execute_result"
    }
   ],
   "source": [
    "x = float(df[0:1]['Close'])\n",
    "x"
   ]
  },
  {
   "cell_type": "code",
   "execution_count": 25,
   "id": "96a6053f",
   "metadata": {},
   "outputs": [],
   "source": [
    "red_days = 0\n",
    "green_days = 0\n",
    "prev = float(df[0:1]['Close'])\n",
    "for index,day in df.iterrows():\n",
    "    close = day['Close']\n",
    "    if close > prev:\n",
    "        green_days += 1\n",
    "    else:\n",
    "        red_days += 1\n",
    "    prev = close"
   ]
  },
  {
   "cell_type": "code",
   "execution_count": 26,
   "id": "2ba96fc7",
   "metadata": {},
   "outputs": [
    {
     "name": "stdout",
     "output_type": "stream",
     "text": [
      "793 713\n"
     ]
    }
   ],
   "source": [
    "print(green_days, red_days)"
   ]
  },
  {
   "cell_type": "code",
   "execution_count": 33,
   "id": "64205de9",
   "metadata": {},
   "outputs": [
    {
     "name": "stdout",
     "output_type": "stream",
     "text": [
      "7 7\n"
     ]
    }
   ],
   "source": [
    "prev = float(df[0:1]['Close'])\n",
    "\n",
    "longest_red_streak = 0\n",
    "longest_green_streak = 0\n",
    "\n",
    "green_streak = 0\n",
    "red_streak = 0\n",
    "\n",
    "greens = []\n",
    "reds = []\n",
    "\n",
    "for index,day in df.iterrows():\n",
    "    close  = day['Close']\n",
    "    \n",
    "    if close > prev:\n",
    "        if red_streak > 0:\n",
    "            reds.append(red_streak)\n",
    "        red_streak = 0\n",
    "        green_streak += 1\n",
    "        if green_streak > longest_green_streak:\n",
    "            longest_green_streak = green_streak\n",
    "    else:\n",
    "        if green_streak > 0:\n",
    "            greens.append(green_streak)\n",
    "        green_streak = 0\n",
    "        red_streak += 1\n",
    "        if red_streak > longest_red_streak:\n",
    "            longest_red_streak = red_streak\n",
    "    \n",
    "    prev = close\n",
    "    \n",
    "print(longest_red_streak, longest_green_streak)"
   ]
  },
  {
   "cell_type": "code",
   "execution_count": 35,
   "id": "72dc4b27",
   "metadata": {},
   "outputs": [
    {
     "name": "stdout",
     "output_type": "stream",
     "text": [
      "2.0025252525252526\n"
     ]
    }
   ],
   "source": [
    "tot = 0\n",
    "for g in greens:\n",
    "    tot += g\n",
    "avg = tot / len(greens)\n",
    "print(avg)"
   ]
  },
  {
   "cell_type": "markdown",
   "id": "7a77ea7f",
   "metadata": {},
   "source": [
    "Volatility"
   ]
  },
  {
   "cell_type": "code",
   "execution_count": 38,
   "id": "619284c1",
   "metadata": {},
   "outputs": [],
   "source": [
    "change = 0\n",
    "total = 0\n",
    "prev = float(df[0:1]['Close'])\n",
    "for index,day in df.iterrows():\n",
    "    close  = day['Close']\n",
    "    change = abs(close - prev)\n",
    "    total += change\n",
    "    prev = close"
   ]
  },
  {
   "cell_type": "code",
   "execution_count": 42,
   "id": "af11e53e",
   "metadata": {},
   "outputs": [
    {
     "data": {
      "text/plain": [
       "2.6732244355909685"
      ]
     },
     "execution_count": 42,
     "metadata": {},
     "output_type": "execute_result"
    }
   ],
   "source": [
    "val = total/len(df)\n",
    "val"
   ]
  },
  {
   "cell_type": "code",
   "execution_count": 51,
   "id": "065dae34",
   "metadata": {},
   "outputs": [],
   "source": [
    "dfx = df[df['Month'] == 12]"
   ]
  },
  {
   "cell_type": "code",
   "execution_count": 55,
   "id": "0a0c1ef9",
   "metadata": {},
   "outputs": [
    {
     "name": "stdout",
     "output_type": "stream",
     "text": [
      "35.007617391304336 1\n"
     ]
    }
   ],
   "source": [
    "vol_month = 0\n",
    "max_vol = 0\n",
    "for i in range(12):\n",
    "    change = 0\n",
    "    total = 0\n",
    "    dfx = df[df['Month'] == i+1]\n",
    "    prev = float(df[0:1]['Close'])\n",
    "    for index,day in df.iterrows():\n",
    "        close  = day['Close']\n",
    "        change = abs(close - prev)\n",
    "        total += change\n",
    "        prev = close\n",
    "    vol = total /len(dfx)\n",
    "    if vol > max_vol:\n",
    "        max_vol = vol\n",
    "        vol_month = i\n",
    "print(max_vol, vol_month)"
   ]
  },
  {
   "cell_type": "code",
   "execution_count": null,
   "id": "d8e7e1ed",
   "metadata": {},
   "outputs": [],
   "source": []
  }
 ],
 "metadata": {
  "kernelspec": {
   "display_name": "Python 3 (ipykernel)",
   "language": "python",
   "name": "python3"
  },
  "language_info": {
   "codemirror_mode": {
    "name": "ipython",
    "version": 3
   },
   "file_extension": ".py",
   "mimetype": "text/x-python",
   "name": "python",
   "nbconvert_exporter": "python",
   "pygments_lexer": "ipython3",
   "version": "3.8.10"
  }
 },
 "nbformat": 4,
 "nbformat_minor": 5
}
